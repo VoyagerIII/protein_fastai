{
 "cells": [
  {
   "cell_type": "code",
   "execution_count": 1,
   "metadata": {
    "_cell_guid": "79c7e3d0-c299-4dcb-8224-4455121ee9b0",
    "_uuid": "d629ff2d2480ee46fbb7e2d37f6b5fab8052498a"
   },
   "outputs": [],
   "source": [
    "from fastai.conv_learner import *\n",
    "from fastai.dataset import *\n",
    "\n",
    "import pandas as pd\n",
    "import numpy as np\n",
    "import os\n",
    "from sklearn.model_selection import train_test_split\n",
    "from sklearn.metrics import f1_score\n",
    "import scipy.optimize as opt"
   ]
  },
  {
   "cell_type": "code",
   "execution_count": 2,
   "metadata": {
    "_uuid": "1dcb0ed47f29e7a457cc54500b97ab4e96405e8e"
   },
   "outputs": [],
   "source": [
    "VOTER0 = '../protein_classification_555_resnet34_hpv18_cw.csv'\n",
    "# VOTER0 = '../input/train.csv'\n",
    "VOTER1 = '../protein_classification_t_resnet18.csv'\n",
    "VOTER2 = '../protein_ensemble_0_513.csv'"
   ]
  },
  {
   "cell_type": "code",
   "execution_count": 3,
   "metadata": {},
   "outputs": [],
   "source": [
    "def distribution(voters):\n",
    "    count = np.zeros(28)\n",
    "    for line in range(voters.shape[0]):\n",
    "        temp = voters[line][1].split(' ')\n",
    "        for tg in temp:\n",
    "            if tg != '':\n",
    "                count[int(tg)] += 1 \n",
    "#                 print(tg, count[int(tg)])\n",
    "    return count\n",
    "def judge(df):\n",
    "    count = np.zeros(28)\n",
    "    for line in range(df.shape[0]):\n",
    "        temp = df[line][1].split(' ')\n",
    "        if temp != ['']:\n",
    "#             print(temp)\n",
    "            for v in temp:\n",
    "                count[int(v)] += 1 \n",
    "    return count"
   ]
  },
  {
   "cell_type": "code",
   "execution_count": 4,
   "metadata": {},
   "outputs": [
    {
     "name": "stdout",
     "output_type": "stream",
     "text": [
      "[4469.       472.      1009.       590.       760.66667  841.33333  502.66667  935.66667   18.33333\n",
      "   18.66667   16.       426.66667  403.33333  231.66667  436.         6.       275.33333  246.66667\n",
      "  307.       609.66667   83.33333 1496.       348.33333 1013.66667  106.33333 3138.33333  251.33333\n",
      "  330.     ]\n"
     ]
    }
   ],
   "source": [
    "voter0 = np.loadtxt(VOTER0, dtype=str, delimiter=',', comments=None)\n",
    "voter1 = np.loadtxt(VOTER1, dtype=str, delimiter=',', comments=None)\n",
    "voter2 = np.loadtxt(VOTER2, dtype=str, delimiter=',', comments=None)\n",
    "judge_count = (judge(voter0[1:])+judge(voter1[1:])+judge(voter2[1:]))/3\n",
    "print(judge_count)\n",
    "# for i in range(judge_count.shape[0]):\n",
    "#     if judge_count[i] < 800:\n",
    "#         print(i,judge_count[i])\n",
    "poor_class_list = [8, 9, 10, 13, 15, 17, 20, 24, 27]\n",
    "# poor_class_list = [1, 3, 6, 8, 9, 10, 11, 12, 13, 14, 15, 16, 17, 18, 20, 22, 24, 26, 27]"
   ]
  },
  {
   "cell_type": "code",
   "execution_count": 5,
   "metadata": {},
   "outputs": [],
   "source": [
    "def hard_voting(voters, voters_num):\n",
    "    count = np.zeros(28)\n",
    "    for voters_index in range(voters_num):\n",
    "        temp = voters[voters_index].split(' ')\n",
    "        for tg in temp:\n",
    "            if tg != '':\n",
    "                count[int(tg)] += 1 \n",
    "#                 print(tg, count[int(tg)])\n",
    "    return count"
   ]
  },
  {
   "cell_type": "code",
   "execution_count": 6,
   "metadata": {},
   "outputs": [
    {
     "data": {
      "text/plain": [
       "11703"
      ]
     },
     "execution_count": 6,
     "metadata": {},
     "output_type": "execute_result"
    }
   ],
   "source": [
    "voters = [\"temp\", \"temp\", \"temp\"]\n",
    "submit = voter0.copy()\n",
    "submit.shape[0]"
   ]
  },
  {
   "cell_type": "code",
   "execution_count": 7,
   "metadata": {},
   "outputs": [],
   "source": [
    "for line in range(1, voter0.shape[0]):\n",
    "    submit[line][0] = voter0[line][0]\n",
    "    submit[line][1] = \"\"\n",
    "    voters[0] = voter0[line][1]\n",
    "    voters[1] = voter1[line][1]\n",
    "    voters[2] = voter2[line][1]\n",
    "    count=hard_voting(voters, 3)\n",
    "    for i in range(count.shape[0]):\n",
    "        if i in poor_class_list:\n",
    "            if count[i] >= 1:\n",
    "                submit[line][1] += str(i)+\" \"\n",
    "        elif count[i] >= 2:\n",
    "            submit[line][1] += str(i)+\" \"\n",
    "    submit[line][1] = submit[line][1][:-1]\n",
    "# for line in range(len(submit)):\n",
    "#     print(submit[line])\n",
    "np.savetxt('hard-ensemble.csv', submit, fmt='%s', delimiter=',')"
   ]
  },
  {
   "cell_type": "code",
   "execution_count": null,
   "metadata": {},
   "outputs": [],
   "source": []
  }
 ],
 "metadata": {
  "kernelspec": {
   "display_name": "Python(fastai)",
   "language": "python",
   "name": "fastai"
  },
  "language_info": {
   "codemirror_mode": {
    "name": "ipython",
    "version": 3
   },
   "file_extension": ".py",
   "mimetype": "text/x-python",
   "name": "python",
   "nbconvert_exporter": "python",
   "pygments_lexer": "ipython3",
   "version": "3.6.6"
  },
  "widgets": {
   "application/vnd.jupyter.widget-state+json": {
    "state": {},
    "version_major": 2,
    "version_minor": 0
   }
  }
 },
 "nbformat": 4,
 "nbformat_minor": 1
}
