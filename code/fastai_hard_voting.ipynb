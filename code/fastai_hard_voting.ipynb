{
 "cells": [
  {
   "cell_type": "code",
   "execution_count": 1,
   "metadata": {
    "_cell_guid": "79c7e3d0-c299-4dcb-8224-4455121ee9b0",
    "_uuid": "d629ff2d2480ee46fbb7e2d37f6b5fab8052498a"
   },
   "outputs": [],
   "source": [
    "from fastai.conv_learner import *\n",
    "from fastai.dataset import *\n",
    "\n",
    "import pandas as pd\n",
    "import numpy as np\n",
    "import os\n",
    "from sklearn.model_selection import train_test_split\n",
    "from sklearn.metrics import f1_score\n",
    "import scipy.optimize as opt"
   ]
  },
  {
   "cell_type": "code",
   "execution_count": 2,
   "metadata": {
    "_uuid": "1dcb0ed47f29e7a457cc54500b97ab4e96405e8e"
   },
   "outputs": [],
   "source": [
    "VOTER0 = '../protein_classification_507_resnet34_hpv18.csv'\n",
    "# VOTER0 = '../input/train.csv'\n",
    "VOTER1 = '../protein_classification_512_resnet18_hpv18_cw.csv'\n",
    "VOTER2 = '../protein_ensemble_0_513.csv'"
   ]
  },
  {
   "cell_type": "code",
   "execution_count": 3,
   "metadata": {},
   "outputs": [],
   "source": [
    "def distribution(voters):\n",
    "    count = np.zeros(28)\n",
    "    for line in range(voters.shape[0]):\n",
    "        temp = voters[line][1].split(' ')\n",
    "        for tg in temp:\n",
    "            if tg != '':\n",
    "                count[int(tg)] += 1 \n",
    "#                 print(tg, count[int(tg)])\n",
    "    return count"
   ]
  },
  {
   "cell_type": "code",
   "execution_count": 4,
   "metadata": {},
   "outputs": [],
   "source": [
    "voter0 = np.loadtxt(VOTER0, dtype=str, delimiter=',', comments=None)\n",
    "voter1 = np.loadtxt(VOTER1, dtype=str, delimiter=',', comments=None)\n",
    "voter2 = np.loadtxt(VOTER2, dtype=str, delimiter=',', comments=None)\n",
    "# judge_count = (distribution(voter1)+distribution(voter2)+distribution(voter3))/3\n",
    "# for i in range(judge_count.shape[0]):\n",
    "#     if judge_count[i] < 200:\n",
    "#         print(i)\n",
    "poor_class_list = [8, 9, 10, 13, 15, 17, 20, 24, 27]"
   ]
  },
  {
   "cell_type": "code",
   "execution_count": 5,
   "metadata": {},
   "outputs": [],
   "source": [
    "def hard_voting(voters, voters_num):\n",
    "    count = np.zeros(28)\n",
    "    for voters_index in range(voters_num):\n",
    "        temp = voters[voters_index].split(' ')\n",
    "        for tg in temp:\n",
    "            if tg != '':\n",
    "                count[int(tg)] += 1 \n",
    "#                 print(tg, count[int(tg)])\n",
    "    return count"
   ]
  },
  {
   "cell_type": "code",
   "execution_count": 6,
   "metadata": {},
   "outputs": [
    {
     "data": {
      "text/plain": [
       "11704"
      ]
     },
     "execution_count": 6,
     "metadata": {},
     "output_type": "execute_result"
    }
   ],
   "source": [
    "voters = [\"temp\", \"temp\", \"temp\"]\n",
    "submit = [[\"temp\"] * 2] * (voter0.shape[0]+1)\n",
    "submit[0] = [\"Id\", \"Predicted\"]\n",
    "len(submit)"
   ]
  },
  {
   "cell_type": "code",
   "execution_count": 7,
   "metadata": {},
   "outputs": [],
   "source": [
    "for line in range(1, voter0.shape[0]):\n",
    "    submit[line][0] = voter0[line][0]\n",
    "    submit[line][1] = \"\"\n",
    "    voters[0] = voter0[line][1]\n",
    "    voters[1] = voter1[line][1]\n",
    "    voters[2] = voter2[line][1]\n",
    "    count=hard_voting(voters, 3)\n",
    "    for i in range(count.shape[0]):\n",
    "        if i in poor_class_list:\n",
    "            if count[i] >= 1:\n",
    "                submit[line][1] += str(i)+\" \"\n",
    "        elif count[i] >= 2:\n",
    "            submit[line][1] += str(i)+\" \"\n",
    "    submit[line+1][1] = submit[line+1][1][:-1]\n",
    "    voter0[line] = submit[line]\n",
    "# len(submit)\n",
    "# for line in range(len(submit)):\n",
    "#     print(submit[line])\n",
    "np.savetxt('hard-votted.csv', voter0, fmt='%s', delimiter=',')"
   ]
  },
  {
   "cell_type": "code",
   "execution_count": null,
   "metadata": {},
   "outputs": [],
   "source": []
  }
 ],
 "metadata": {
  "kernelspec": {
   "display_name": "Python(fastai)",
   "language": "python",
   "name": "fastai"
  },
  "language_info": {
   "codemirror_mode": {
    "name": "ipython",
    "version": 3
   },
   "file_extension": ".py",
   "mimetype": "text/x-python",
   "name": "python",
   "nbconvert_exporter": "python",
   "pygments_lexer": "ipython3",
   "version": "3.6.6"
  },
  "widgets": {
   "application/vnd.jupyter.widget-state+json": {
    "state": {},
    "version_major": 2,
    "version_minor": 0
   }
  }
 },
 "nbformat": 4,
 "nbformat_minor": 1
}
